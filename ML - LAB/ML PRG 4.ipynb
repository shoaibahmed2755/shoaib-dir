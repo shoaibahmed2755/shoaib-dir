{
 "cells": [
  {
   "cell_type": "code",
   "execution_count": 2,
   "id": "d224e859-45f9-454f-9632-f1f033555c65",
   "metadata": {},
   "outputs": [
    {
     "name": "stdout",
     "output_type": "stream",
     "text": [
      "Final Hypothesis: {'Outlook': '?', 'Temperature': '?', 'Humidity': 'High', 'Windy': '?'}\n"
     ]
    },
    {
     "name": "stderr",
     "output_type": "stream",
     "text": [
      "C:\\Users\\IronCore-2024\\AppData\\Local\\Temp\\ipykernel_5976\\2385111509.py:13: FutureWarning: Series.__getitem__ treating keys as positions is deprecated. In a future version, integer keys will always be treated as labels (consistent with DataFrame behavior). To access a value by position, use `ser.iloc[pos]`\n",
      "  if row[-1] == 'Yes':  # Only consider positive examples\n"
     ]
    }
   ],
   "source": [
    "import pandas as pd \n",
    " \n",
    "# Read CSV file (replace 'training_data.csv' with your file name) \n",
    "df = pd.read_csv(r'C:\\Users\\IronCore-2024\\Documents\\6th SEM\\ML LAB\\DataSet\\Exp-4.csv') \n",
    " \n",
    "# Initialize the most specific hypothesis \n",
    "# Assuming the last column is the target ('Yes'/'No') and others are attributes \n",
    "attributes = df.columns[:-1] \n",
    "hypothesis = ['0'] * len(attributes)  # Start with most specific (all null) \n",
    " \n",
    "# Implement Find-S algorithm \n",
    "for index, row in df.iterrows(): \n",
    " if row[-1] == 'Yes':  # Only consider positive examples \n",
    "     for i, attr in enumerate(attributes): \n",
    "         if hypothesis[i] == '0':  # First positive example \n",
    "             hypothesis[i] = row[attr] \n",
    "         elif hypothesis[i] != row[attr]:  # Generalize if attribute differs \n",
    "             hypothesis[i] = '?' \n",
    "              \n",
    "# Output the final hypothesis \n",
    "print(\"Final Hypothesis:\", dict(zip(attributes, hypothesis))) "
   ]
  },
  {
   "cell_type": "code",
   "execution_count": null,
   "id": "44a063c7-c97d-4ccf-97df-286670c3a088",
   "metadata": {},
   "outputs": [],
   "source": []
  }
 ],
 "metadata": {
  "kernelspec": {
   "display_name": "Python 3 (ipykernel)",
   "language": "python",
   "name": "python3"
  },
  "language_info": {
   "codemirror_mode": {
    "name": "ipython",
    "version": 3
   },
   "file_extension": ".py",
   "mimetype": "text/x-python",
   "name": "python",
   "nbconvert_exporter": "python",
   "pygments_lexer": "ipython3",
   "version": "3.12.7"
  }
 },
 "nbformat": 4,
 "nbformat_minor": 5
}
